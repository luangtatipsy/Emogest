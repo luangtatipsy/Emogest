{
 "metadata": {
  "language_info": {
   "codemirror_mode": {
    "name": "ipython",
    "version": 3
   },
   "file_extension": ".py",
   "mimetype": "text/x-python",
   "name": "python",
   "nbconvert_exporter": "python",
   "pygments_lexer": "ipython3",
   "version": "3.8.7-final"
  },
  "orig_nbformat": 2,
  "kernelspec": {
   "name": "python3",
   "display_name": "Python 3.8.7 64-bit ('env')",
   "metadata": {
    "interpreter": {
     "hash": "d32f73c550a5f0322e924bfb3a831367065f6edcdc0169c9b2fa3ae8742a6b81"
    }
   }
  }
 },
 "nbformat": 4,
 "nbformat_minor": 2,
 "cells": [
  {
   "cell_type": "code",
   "execution_count": 1,
   "metadata": {},
   "outputs": [
    {
     "output_type": "stream",
     "name": "stdout",
     "text": [
      "INFO: Pandarallel will run on 4 workers.\nINFO: Pandarallel will use standard multiprocessing data transfer (pipe) to transfer data between the main process and workers.\n"
     ]
    }
   ],
   "source": [
    "import warnings\n",
    "warnings.filterwarnings('ignore')\n",
    "\n",
    "import pandas as pd\n",
    "pd.set_option('display.max_colwidth', None)\n",
    "\n",
    "from emogest.preprocessing import preprocess\n",
    "from emogest.tokenizer import tokenize\n",
    "from gensim.models import Word2Vec\n",
    "\n",
    "from pandarallel import pandarallel\n",
    "pandarallel.initialize()"
   ]
  },
  {
   "cell_type": "code",
   "execution_count": 2,
   "metadata": {},
   "outputs": [],
   "source": [
    "tweets = pd.read_csv(\"datasets/prepared_data.csv\")"
   ]
  },
  {
   "cell_type": "code",
   "execution_count": 3,
   "metadata": {},
   "outputs": [
    {
     "output_type": "stream",
     "name": "stdout",
     "text": [
      "CPU times: user 334 ms, sys: 193 ms, total: 527 ms\n",
      "Wall time: 12.3 s\n",
      "CPU times: user 1.13 s, sys: 373 ms, total: 1.5 s\n",
      "Wall time: 21.8 s\n"
     ]
    }
   ],
   "source": [
    "%time tweets[\"preprocessed\"] = tweets[\"tweet\"].parallel_apply(preprocess)\n",
    "%time tweets[\"tokens\"] = tweets[\"preprocessed\"].parallel_apply(tokenize)"
   ]
  },
  {
   "cell_type": "code",
   "execution_count": 4,
   "metadata": {},
   "outputs": [
    {
     "output_type": "stream",
     "name": "stdout",
     "text": [
      "CPU times: user 10min 37s, sys: 10.2 s, total: 10min 47s\nWall time: 5min 41s\n"
     ]
    }
   ],
   "source": [
    "sentences = tweets[\"tokens\"].tolist()\n",
    "%time model = Word2Vec(sentences, size=256, min_count=2, workers=4, iter=100)"
   ]
  },
  {
   "cell_type": "code",
   "execution_count": 5,
   "metadata": {},
   "outputs": [],
   "source": [
    "model_path = \"models/tweet_embedding_256.model\"\n",
    "model.save(model_path)"
   ]
  }
 ]
}