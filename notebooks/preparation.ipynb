{
 "metadata": {
  "language_info": {
   "codemirror_mode": {
    "name": "ipython",
    "version": 3
   },
   "file_extension": ".py",
   "mimetype": "text/x-python",
   "name": "python",
   "nbconvert_exporter": "python",
   "pygments_lexer": "ipython3",
   "version": "3.8.0-final"
  },
  "orig_nbformat": 2,
  "kernelspec": {
   "name": "python3",
   "display_name": "Python 3",
   "language": "python"
  }
 },
 "nbformat": 4,
 "nbformat_minor": 2,
 "cells": [
  {
   "cell_type": "code",
   "execution_count": 1,
   "metadata": {},
   "outputs": [
    {
     "output_type": "stream",
     "name": "stdout",
     "text": [
      "INFO: Pandarallel will run on 4 workers.\nINFO: Pandarallel will use standard multiprocessing data transfer (pipe) to transfer data between the main process and workers.\n"
     ]
    }
   ],
   "source": [
    "import os\n",
    "import warnings\n",
    "warnings.filterwarnings('ignore')\n",
    "\n",
    "\n",
    "import emoji\n",
    "import numpy as np\n",
    "import pandas as pd\n",
    "pd.set_option('display.max_colwidth', None)\n",
    "pd.set_option('display.max_rows', 50)\n",
    "pd.set_option('display.max_columns', 50)\n",
    "\n",
    "from pandarallel import pandarallel\n",
    "pandarallel.initialize(nb_workers=os.cpu_count())"
   ]
  },
  {
   "cell_type": "code",
   "execution_count": 2,
   "metadata": {},
   "outputs": [],
   "source": [
    "df = pd.read_csv(\"../datasets/raw_data.csv\")"
   ]
  },
  {
   "source": [
    "## Preliminary Exploration"
   ],
   "cell_type": "markdown",
   "metadata": {}
  },
  {
   "cell_type": "code",
   "execution_count": 3,
   "metadata": {},
   "outputs": [
    {
     "output_type": "execute_result",
     "data": {
      "text/plain": [
       "(316571, 1)"
      ]
     },
     "metadata": {},
     "execution_count": 3
    }
   ],
   "source": [
    "df.shape"
   ]
  },
  {
   "cell_type": "code",
   "execution_count": 4,
   "metadata": {},
   "outputs": [
    {
     "output_type": "stream",
     "name": "stdout",
     "text": [
      "<class 'pandas.core.frame.DataFrame'>\nRangeIndex: 316571 entries, 0 to 316570\nData columns (total 1 columns):\n #   Column  Non-Null Count   Dtype \n---  ------  --------------   ----- \n 0   tweet   316571 non-null  object\ndtypes: object(1)\nmemory usage: 2.4+ MB\n"
     ]
    }
   ],
   "source": [
    "df.info()"
   ]
  },
  {
   "cell_type": "code",
   "execution_count": 5,
   "metadata": {},
   "outputs": [
    {
     "output_type": "execute_result",
     "data": {
      "text/plain": [
       "(299432, 1)"
      ]
     },
     "metadata": {},
     "execution_count": 5
    }
   ],
   "source": [
    "df.drop_duplicates(['tweet'], inplace=True)\n",
    "df.shape"
   ]
  },
  {
   "source": [
    "## Data Preparation"
   ],
   "cell_type": "markdown",
   "metadata": {}
  },
  {
   "source": [
    "#### Extract emojis from each tweet"
   ],
   "cell_type": "markdown",
   "metadata": {}
  },
  {
   "cell_type": "code",
   "execution_count": 6,
   "metadata": {},
   "outputs": [],
   "source": [
    "RE_EMOJI = emoji.get_emoji_regexp()"
   ]
  },
  {
   "cell_type": "code",
   "execution_count": 7,
   "metadata": {},
   "outputs": [],
   "source": [
    "def extract_and_remove_emoji(row: pd.Series) -> pd.Series:\n",
    "    tweet = row['tweet']\n",
    "    emojis = set(RE_EMOJI.findall(tweet))\n",
    "    tweet = RE_EMOJI.sub(' ', tweet)\n",
    "\n",
    "    row['emojis'] = emojis\n",
    "    row['tweet'] = tweet\n",
    "\n",
    "    return row"
   ]
  },
  {
   "source": [
    "df['emojis'] = np.nan\n",
    "%time df = df.parallel_apply(extract_and_remove_emoji, axis=1)"
   ],
   "cell_type": "code",
   "metadata": {},
   "execution_count": 8,
   "outputs": [
    {
     "output_type": "stream",
     "name": "stdout",
     "text": [
      "CPU times: user 1.42 s, sys: 947 ms, total: 2.37 s\nWall time: 3min 51s\n"
     ]
    }
   ]
  },
  {
   "source": [
    "#### Filter only tweets which contain a single emoji character (not necessery to occur once)"
   ],
   "cell_type": "markdown",
   "metadata": {}
  },
  {
   "cell_type": "code",
   "execution_count": 9,
   "metadata": {},
   "outputs": [],
   "source": [
    "filtered = df[df['emojis'].parallel_apply(lambda emojis: len(emojis) == 1)]\n",
    "filtered['emoji'] = filtered['emojis'].parallel_apply(lambda emojis: emojis.pop())\n",
    "filtered.drop(columns=['emojis'], inplace=True)"
   ]
  },
  {
   "source": [
    "#### Show top 20 most infrequently used emoji"
   ],
   "cell_type": "markdown",
   "metadata": {}
  },
  {
   "cell_type": "code",
   "execution_count": 10,
   "metadata": {},
   "outputs": [
    {
     "output_type": "execute_result",
     "data": {
      "text/plain": [
       "🏈       13\n",
       "🎾       18\n",
       "🍴       50\n",
       "🦠       84\n",
       "🏀      101\n",
       "⚽      139\n",
       "🤑      152\n",
       "🚬      203\n",
       "🍺      245\n",
       "💩      301\n",
       "🤓      523\n",
       "⭐      524\n",
       "📸      535\n",
       "🍻      584\n",
       "🇹🇭     594\n",
       "💯      632\n",
       "👻      655\n",
       "🥵      932\n",
       "🤢     1073\n",
       "💪     1614\n",
       "Name: emoji, dtype: int64"
      ]
     },
     "metadata": {},
     "execution_count": 10
    }
   ],
   "source": [
    "filtered['emoji'].value_counts(ascending=True)[:20]"
   ]
  },
  {
   "source": [
    "#### Group 🍺 and 🍻  into a single label (It can be considered to a same label)"
   ],
   "cell_type": "markdown",
   "metadata": {}
  },
  {
   "cell_type": "code",
   "execution_count": 11,
   "metadata": {},
   "outputs": [],
   "source": [
    "mask = filtered['emoji'] == '🍺'\n",
    "filtered.loc[mask, 'emoji'] = '🍻'"
   ]
  },
  {
   "cell_type": "code",
   "execution_count": 12,
   "metadata": {},
   "outputs": [
    {
     "output_type": "execute_result",
     "data": {
      "text/plain": [
       "(829, 2)"
      ]
     },
     "metadata": {},
     "execution_count": 12
    }
   ],
   "source": [
    "filtered[filtered['emoji'] == '🍻'].shape"
   ]
  },
  {
   "source": [
    "#### Filter out any emoji that occurs less than 500 times"
   ],
   "cell_type": "markdown",
   "metadata": {}
  },
  {
   "source": [
    "tweets = filtered.groupby('emoji').filter(lambda freq: len(freq) >= 500)"
   ],
   "cell_type": "code",
   "metadata": {},
   "execution_count": 13,
   "outputs": []
  },
  {
   "source": [
    "#### Save the prepared dataframe to CSV"
   ],
   "cell_type": "markdown",
   "metadata": {}
  },
  {
   "cell_type": "code",
   "execution_count": 16,
   "metadata": {},
   "outputs": [],
   "source": [
    "tweets.to_csv(\"../datasets/prepared_data.csv\", index=False)"
   ]
  }
 ]
}