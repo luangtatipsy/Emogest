{
 "metadata": {
  "orig_nbformat": 2,
  "kernelspec": {
   "name": "python3",
   "display_name": "Python 3",
   "language": "python"
  }
 },
 "nbformat": 4,
 "nbformat_minor": 2,
 "cells": [
  {
   "cell_type": "code",
   "execution_count": 1,
   "metadata": {},
   "outputs": [],
   "source": [
    "import warnings\n",
    "warnings.filterwarnings('ignore')\n",
    "\n",
    "import pandas as pd\n",
    "pd.set_option('display.max_colwidth', None)\n",
    "\n",
    "from gensim.models import Word2Vec"
   ]
  },
  {
   "cell_type": "code",
   "execution_count": 2,
   "metadata": {},
   "outputs": [],
   "source": [
    "model_path = \"models/tweet_embedding_256.model\"\n",
    "model = Word2Vec.load(model_path)"
   ]
  },
  {
   "cell_type": "code",
   "execution_count": 3,
   "metadata": {},
   "outputs": [
    {
     "output_type": "execute_result",
     "data": {
      "text/plain": [
       "[('หล่อ', 0.5737799406051636),\n",
       " ('สวย', 0.5413739681243896),\n",
       " ('เท่', 0.5121972560882568),\n",
       " ('รัก', 0.452944815158844),\n",
       " ('เอ็นดู', 0.44720083475112915)]"
      ]
     },
     "metadata": {},
     "execution_count": 3
    }
   ],
   "source": [
    "model.wv.most_similar(positive=['น่ารัก'], topn=5)"
   ]
  },
  {
   "cell_type": "code",
   "execution_count": 4,
   "metadata": {},
   "outputs": [
    {
     "output_type": "execute_result",
     "data": {
      "text/plain": [
       "[('สมุทรสาคร', 0.40021657943725586),\n",
       " ('ฉะเชิงเทรา', 0.36194905638694763),\n",
       " ('ตำบล', 0.34736722707748413),\n",
       " ('ระยอง', 0.34703171253204346),\n",
       " ('อุดร', 0.34527212381362915)]"
      ]
     },
     "metadata": {},
     "execution_count": 4
    }
   ],
   "source": [
    "model.wv.most_similar(positive=['กรุงเทพ'], topn=5)"
   ]
  },
  {
   "cell_type": "code",
   "execution_count": 5,
   "metadata": {},
   "outputs": [
    {
     "output_type": "execute_result",
     "data": {
      "text/plain": [
       "[('เย็น', 0.76517844),\n",
       " ('หนาว', 0.22062139),\n",
       " ('ร้อน', 0.0044608717),\n",
       " ('เปลี่ยน', 0.00079390605),\n",
       " ('ฝนตก', 0.00037236913)]"
      ]
     },
     "metadata": {},
     "execution_count": 5
    }
   ],
   "source": [
    "model.predict_output_word([\"วันนี้\", \"อากาศ\", \"น่าจะ\"], topn=5)"
   ]
  }
 ]
}