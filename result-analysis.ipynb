{
 "metadata": {
  "language_info": {
   "codemirror_mode": {
    "name": "ipython",
    "version": 3
   },
   "file_extension": ".py",
   "mimetype": "text/x-python",
   "name": "python",
   "nbconvert_exporter": "python",
   "pygments_lexer": "ipython3",
   "version": "3.8.7-final"
  },
  "orig_nbformat": 2,
  "kernelspec": {
   "name": "python3",
   "display_name": "Python 3.8.7 64-bit ('env')",
   "metadata": {
    "interpreter": {
     "hash": "d32f73c550a5f0322e924bfb3a831367065f6edcdc0169c9b2fa3ae8742a6b81"
    }
   }
  }
 },
 "nbformat": 4,
 "nbformat_minor": 2,
 "cells": [
  {
   "cell_type": "code",
   "execution_count": 1,
   "metadata": {},
   "outputs": [
    {
     "output_type": "stream",
     "name": "stdout",
     "text": [
      "INFO: Pandarallel will run on 4 workers.\nINFO: Pandarallel will use standard multiprocessing data transfer (pipe) to transfer data between the main process and workers.\n"
     ]
    }
   ],
   "source": [
    "import warnings\n",
    "warnings.filterwarnings('ignore')\n",
    "\n",
    "import joblib\n",
    "\n",
    "import pandas as pd\n",
    "pd.set_option('display.max_colwidth', None)\n",
    "\n",
    "from pandarallel import pandarallel\n",
    "pandarallel.initialize()\n",
    "\n",
    "from gensim.models import Word2Vec\n",
    "from sklearn.metrics import classification_report\n",
    "\n",
    "from emogest.datasets import Dataset"
   ]
  },
  {
   "cell_type": "code",
   "execution_count": 2,
   "metadata": {},
   "outputs": [],
   "source": [
    "tweets = pd.read_csv(\"datasets/prepared_data.csv\")\n",
    "# w2v_model = Word2Vec.load(\"models/tweet_embedding_256.model\")"
   ]
  },
  {
   "cell_type": "code",
   "execution_count": 3,
   "metadata": {},
   "outputs": [],
   "source": [
    "dataset = Dataset(tweets, y_column=\"emoji\", test_size=0.05)"
   ]
  },
  {
   "cell_type": "code",
   "execution_count": 4,
   "metadata": {},
   "outputs": [],
   "source": [
    "pipeline = joblib.load(\"models/emoji_xgb.pipeline\")"
   ]
  },
  {
   "cell_type": "code",
   "execution_count": 5,
   "metadata": {},
   "outputs": [
    {
     "output_type": "stream",
     "name": "stdout",
     "text": [
      "CPU times: user 1min 10s, sys: 1.32 s, total: 1min 12s\nWall time: 21.1 s\n"
     ]
    }
   ],
   "source": [
    "%time dataset.test_set['prediction'] = dataset.test_set['tweet'].apply(lambda tweet: pipeline.predict(tweet)[0])"
   ]
  },
  {
   "cell_type": "code",
   "execution_count": 6,
   "metadata": {},
   "outputs": [
    {
     "output_type": "stream",
     "name": "stdout",
     "text": [
      "              precision    recall  f1-score   support\n\n           ❤     0.2873    0.2667    0.2766       195\n           ⭐     0.3846    0.1923    0.2564        26\n          🇹🇭     0.8421    0.5333    0.6531        30\n           🍻     0.4286    0.2195    0.2903        41\n           🎉     0.5000    0.3614    0.4196        83\n           👻     0.2000    0.0303    0.0526        33\n           💔     0.2461    0.3032    0.2717       310\n           💙     0.2619    0.2171    0.2374       152\n           💛     0.2738    0.2018    0.2323       114\n           💪     0.2708    0.1605    0.2016        81\n           💯     0.7895    0.4688    0.5882        32\n           📸     0.6000    0.1111    0.1875        27\n           😀     0.3396    0.1017    0.1565       177\n           😁     0.1359    0.1545    0.1446       343\n           😅     0.1580    0.1962    0.1751       372\n           😍     0.1687    0.2030    0.1843       271\n           😎     0.2403    0.2862    0.2612       325\n           😏     0.1422    0.1611    0.1510       360\n           😐     0.0714    0.0077    0.0139       130\n           😒     0.1111    0.0836    0.0954       311\n           😔     0.1394    0.1628    0.1502       387\n           😚     0.1149    0.1047    0.1095       258\n           😞     0.1443    0.1524    0.1482       374\n           😡     0.2472    0.3350    0.2845       400\n           😫     0.1296    0.1067    0.1170       300\n           😭     0.1794    0.2272    0.2005       383\n           😱     0.1848    0.2601    0.2160       373\n           😴     0.4706    0.5432    0.5043       162\n           😵     0.1250    0.0217    0.0370        92\n           😷     0.3762    0.2946    0.3304       129\n           🙄     0.1956    0.2431    0.2167       362\n           🙏     0.4425    0.5155    0.4762       194\n           🤓     0.0000    0.0000    0.0000        26\n           🤔     0.2496    0.4321    0.3165       405\n           🤗     0.2000    0.0417    0.0690       120\n           🤢     0.5000    0.0370    0.0690        54\n           🤣     0.1354    0.1287    0.1319       342\n           🤤     0.2388    0.1429    0.1788       112\n           🤩     0.1705    0.0882    0.1163       170\n           🤪     0.1786    0.0391    0.0641       128\n           🥰     0.1132    0.0822    0.0952       219\n           🥳     0.3012    0.1838    0.2283       136\n           🥵     0.1429    0.0213    0.0370        47\n\n    accuracy                         0.2085      8586\n   macro avg     0.2658    0.1959    0.2080      8586\nweighted avg     0.2105    0.2085    0.1994      8586\n\n"
     ]
    }
   ],
   "source": [
    "print(classification_report(dataset.test_set['emoji'], dataset.test_set['prediction'], digits=4))"
   ]
  }
 ]
}